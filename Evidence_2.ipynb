{
  "nbformat": 4,
  "nbformat_minor": 0,
  "metadata": {
    "colab": {
      "provenance": [],
      "authorship_tag": "ABX9TyP2KdCzZalsYc9w19dkLp1H",
      "include_colab_link": true
    },
    "kernelspec": {
      "name": "python3",
      "display_name": "Python 3"
    },
    "language_info": {
      "name": "python"
    }
  },
  "cells": [
    {
      "cell_type": "markdown",
      "metadata": {
        "id": "view-in-github",
        "colab_type": "text"
      },
      "source": [
        "<a href=\"https://colab.research.google.com/github/paubutron/Evidence2/blob/main/Evidence_2.ipynb\" target=\"_parent\"><img src=\"https://colab.research.google.com/assets/colab-badge.svg\" alt=\"Open In Colab\"/></a>"
      ]
    },
    {
      "cell_type": "code",
      "execution_count": null,
      "metadata": {
        "id": "_KTC9mybHx7f"
      },
      "outputs": [],
      "source": [
        "#It's incredible how a new experience can change our perspective and awaken our\n",
        " interest in something that previously seemed boring or unimportant.\n",
        "Technology and programming are rapidly developing fields that are transforming\n",
        "the way we live, work and interact with each other.\n",
        "It's exciting to see how these tools can improve our lives and help us make\n",
        "more informed and accurate decisions. The fact that the\n",
        " teacher accompanied us helped me a lot and always clarified my doubts,\n",
        " thank you, teacher!\n"
      ]
    }
  ]
}