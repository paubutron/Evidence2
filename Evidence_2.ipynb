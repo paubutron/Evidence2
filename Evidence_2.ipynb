{
  "nbformat": 4,
  "nbformat_minor": 0,
  "metadata": {
    "colab": {
      "provenance": [],
      "authorship_tag": "ABX9TyMX4kiA7nKDYVvaLs3Vqs8A",
      "include_colab_link": true
    },
    "kernelspec": {
      "name": "python3",
      "display_name": "Python 3"
    },
    "language_info": {
      "name": "python"
    }
  },
  "cells": [
    {
      "cell_type": "markdown",
      "metadata": {
        "id": "view-in-github",
        "colab_type": "text"
      },
      "source": [
        "<a href=\"https://colab.research.google.com/github/paubutron/Evidence2/blob/main/Evidence_2.ipynb\" target=\"_parent\"><img src=\"https://colab.research.google.com/assets/colab-badge.svg\" alt=\"Open In Colab\"/></a>"
      ]
    },
    {
      "cell_type": "code",
      "execution_count": null,
      "metadata": {
        "id": "_KTC9mybHx7f"
      },
      "outputs": [],
      "source": [
        "It's incredible how a new experience can change our perspective and awaken our interest in something that previously seemed boring or unimportant. Technology and programming are rapidly developing fields that are transforming the way we live, work and interact with each other. It's exciting to see how these tools can improve our lives and help us make more informed and accurate decisions. The fact that the teacher accompanied us helped me a lot and always clarified my doubts, thank you, teacher!\n"
      ]
    }
  ]
}